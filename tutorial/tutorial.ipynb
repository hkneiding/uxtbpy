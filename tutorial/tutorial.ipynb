{
 "cells": [
  {
   "cell_type": "markdown",
   "id": "01e4d27f",
   "metadata": {},
   "source": [
    "# *uxtbpy* tutorial\n",
    "\n",
    "This notebook goes through the basic usage *uxtbpy* and is organized into four parts: \n",
    "1. Requirements\n",
    "2. XtbRunner\n",
    "3. StdaRunner\n",
    "4. Limitations"
   ]
  },
  {
   "cell_type": "markdown",
   "id": "892cbe3d",
   "metadata": {},
   "source": [
    "### Requirements\n",
    "\n",
    "For *uxtbpy* to function properly you need working installations of [*xTB*](https://github.com/grimme-lab/xtb), [*xTB4sTDA*](https://github.com/grimme-lab/xtb4stda) and [*sTDA*](https://github.com/grimme-lab/std2). These can be installed from the corresponding GitHub pages and should be accessible on your system via *xtb*, *xtb4stda* and *stda*, respectively.\n",
    "\n",
    "If you are on a Unix system you can use the below *bash* script to install the necessary binaries.\n",
    "\n",
    "```bash\n",
    "#!/bin/bash -l\n",
    "\n",
    "# download binaries\n",
    "wget https://github.com/grimme-lab/xtb/releases/download/v6.7.1/xtb-6.7.1-linux-x86_64.tar.xz\n",
    "wget https://github.com/grimme-lab/stda/releases/download/v1.6.3/xtb4stda\n",
    "wget https://github.com/grimme-lab/stda/releases/download/v1.6.3/stda_v1.6.3\n",
    "\n",
    "# extract xtb\n",
    "tar -xvf xtb-6.7.1-linux-x86_64.tar.xz\n",
    "rm xtb-6.7.1-linux-x86_64.tar.xz\n",
    "\n",
    "# rename stda\n",
    "mv stda_v1.6.3 stda\n",
    "\n",
    "# add execution permissions\n",
    "chmod +x xtb-dist/bin/xtb\n",
    "chmod +x xtb4stda\n",
    "chmod +x stda\n",
    "\n",
    "# move binaries to /usr/local/bin/\n",
    "mv xtb-dist/bin/xtb /usr/local/bin/\n",
    "mv xtb4stda /usr/local/bin/\n",
    "mv stda /usr/local/bin/\n",
    "\n",
    "# clean up\n",
    "rm -r xtb-dist/\n",
    "```\n"
   ]
  },
  {
   "cell_type": "markdown",
   "id": "cd817b41",
   "metadata": {},
   "source": [
    "*uxtbpy* does not require any external packages and can be directly installed from GitHub using *pip*."
   ]
  },
  {
   "cell_type": "code",
   "execution_count": null,
   "id": "e2b83c0b",
   "metadata": {},
   "outputs": [],
   "source": [
    "!pip install git+https://github.com/hkneiding/uxtbpy"
   ]
  },
  {
   "cell_type": "markdown",
   "id": "2606e61e",
   "metadata": {},
   "source": [
    "After installation we can import the package and decide on a working directory from which *xTB* and *sTDA* will be launched."
   ]
  },
  {
   "cell_type": "code",
   "execution_count": null,
   "id": "42f1cde2",
   "metadata": {},
   "outputs": [],
   "source": [
    "import uxtbpy\n",
    "\n",
    "working_directory = \"./wd/\""
   ]
  },
  {
   "cell_type": "markdown",
   "id": "d502e16d",
   "metadata": {},
   "source": [
    "### XtbRunner\n",
    "\n",
    "The *XtbRunner* module interfaces the *xTB* binary (*xtb*) for conveniently running jobs (e.g. singlepoints and optimizations) directly from *Python*. After instantiating a *XtbRunner* object, passing to it as argument our chosen working directory path, we can directly run jobs providing a path to molecule file and a list of parameters. If no working directory path is provided, the constructor will default to \"./.temp/\". In the example below, we request an optimization with the overall molecular charge set to 0. For the available options please refer to the [xTB GitHub pages and documentation](https://github.com/grimme-lab/xtb).\n",
    "\n",
    "The run call will return a parsed dictionary of properties found in the *xTB* output. Note that depending on the parameters appended to the call (e.g. *--opt* vs *--ohess*) different properties will be calculated by *xTB* and therefore also different properties (keys) will be present in the resulting dictionary."
   ]
  },
  {
   "cell_type": "code",
   "execution_count": null,
   "id": "493ee550",
   "metadata": {},
   "outputs": [],
   "source": [
    "xtb_runner = uxtbpy.XtbRunner(working_directory=working_directory)\n",
    "result = xtb_runner.run_from_file(\"cisplatin.xyz\", parameters=[\"--opt\", \"--chrg 0\"])\n",
    "\n",
    "print(result.keys())"
   ]
  },
  {
   "cell_type": "markdown",
   "id": "e193e90d",
   "metadata": {},
   "source": [
    "### StdaRunner\n",
    "\n",
    "In a similar fashion, the *StdaRunner* module interfaces the *xTB4sTDA* (*xtb4stda*) and *sTDA* (*stda*) binaries for conveniently running jobs to (e.g. excited state calculations) directly from *Python*. In order to run *sTDA* jobs based on *xTB* we need the *xTB4sTDA* program to generate an appropriate wavefunction file that the *sTDA* program can utilize. The *StdaRunner* takes care of this two-step process and is setup in the same way as the *XtbRunner* by providing a path to a chosen working directory. Jobs can also be started in the same way by providing a path to a molecule file as well as a list of *xTB4sTDA* and a list of *sTDA* parameters. In the example below, we utilize the optimized geometry generated by our previous *xTB* job found in our working directory. For the available options please refer to the [xTB4sTDA GitHub pages](https://github.com/grimme-lab/xtb4stda) and [sTDA GitHub pages](https://github.com/grimme-lab/std2).\n",
    "\n",
    "The run call will return a parsed dictionary of properties found in the *sTDA* output."
   ]
  },
  {
   "cell_type": "code",
   "execution_count": null,
   "id": "af6d4318",
   "metadata": {},
   "outputs": [],
   "source": [
    "stda_runner = uxtbpy.StdaRunner(working_directory=working_directory)\n",
    "result = stda_runner.run_from_file(working_directory + \"xtbopt.xyz\", xtb4stda_parameters=[\"-chrg 0\"], stda_parameters=[])\n",
    "\n",
    "print(result.keys())"
   ]
  },
  {
   "cell_type": "markdown",
   "id": "9a0edccf",
   "metadata": {},
   "source": [
    "### Limitations\n",
    "\n",
    "*uxtbpy*, in particular the parsing modules (*XtbOutputParser*, *StdaOutputParser*), are developed with respect to certain *xTB* and *sTDA* versions. While the calling of their binaries will be largely unaffected in case of changes or updates to the programs, the parsers might fail to capture all relevant data if the structure of the program output changes. Therefore, *uxtbpy* is configured to also write the STDOUT of all exectued binaries to file in the corresponding working directory. This also allows for custom processing of the output, in case you require information that is not captured by the parsers."
   ]
  },
  {
   "cell_type": "code",
   "execution_count": null,
   "id": "b98a5941",
   "metadata": {},
   "outputs": [],
   "source": [
    "with open(working_directory + \"xtb.stdout\") as fh:\n",
    "    xtb_stdout = fh.read()\n",
    "with open(working_directory + \"xtb4stda.stdout\") as fh:\n",
    "    xtb4stda_stdout = fh.read()\n",
    "with open(working_directory + \"stda.stdout\") as fh:\n",
    "    stda_stdout = fh.read()"
   ]
  }
 ],
 "metadata": {
  "kernelspec": {
   "display_name": "base",
   "language": "python",
   "name": "python3"
  },
  "language_info": {
   "codemirror_mode": {
    "name": "ipython",
    "version": 3
   },
   "file_extension": ".py",
   "mimetype": "text/x-python",
   "name": "python",
   "nbconvert_exporter": "python",
   "pygments_lexer": "ipython3",
   "version": "3.12.9"
  }
 },
 "nbformat": 4,
 "nbformat_minor": 5
}
